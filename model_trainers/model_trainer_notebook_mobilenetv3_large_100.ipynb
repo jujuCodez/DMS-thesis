{
 "cells": [
  {
   "cell_type": "markdown",
   "id": "fd1e0c1b",
   "metadata": {},
   "source": [
    "Imports and Setup"
   ]
  },
  {
   "cell_type": "code",
   "execution_count": null,
   "id": "aa8a359b",
   "metadata": {},
   "outputs": [
    {
     "name": "stderr",
     "output_type": "stream",
     "text": [
      "j:\\DMS_Thesis_CNN_4\\.venv\\Lib\\site-packages\\tqdm\\auto.py:21: TqdmWarning: IProgress not found. Please update jupyter and ipywidgets. See https://ipywidgets.readthedocs.io/en/stable/user_install.html\n",
      "  from .autonotebook import tqdm as notebook_tqdm\n"
     ]
    },
    {
     "name": "stdout",
     "output_type": "stream",
     "text": [
      "Using device: cuda\n"
     ]
    }
   ],
   "source": [
    "import os\n",
    "import torch\n",
    "import torch.nn as nn\n",
    "import torch.optim as optim\n",
    "from torchvision import transforms, datasets\n",
    "from torch.utils.data import DataLoader\n",
    "import timm\n",
    "import matplotlib.pyplot as plt\n",
    "\n",
    "from sklearn.metrics import confusion_matrix, classification_report\n",
    "import numpy as np\n",
    "\n",
    "# Use GPU if available\n",
    "device = torch.device('cuda' if torch.cuda.is_available() else 'cpu')\n",
    "print(\"Using device:\", device)\n",
    "\n",
    "# Define model save directory and model name before training loop\n",
    "model_save_dir = \"trained_models\"\n",
    "os.makedirs(model_save_dir, exist_ok=True)\n",
    "\n",
    "# Define model name (update this per model if looping through multiple)\n",
    "model_name = 'mobilenetv3_large_100'  # <-- change as needed\n",
    "model_path = os.path.join(model_save_dir, f\"DMS_{model_name}.pth\")\n"
   ]
  },
  {
   "cell_type": "markdown",
   "id": "4cf0cf70",
   "metadata": {},
   "source": [
    "Define Dataset and Dataloaders"
   ]
  },
  {
   "cell_type": "code",
   "execution_count": null,
   "id": "250308e7",
   "metadata": {},
   "outputs": [
    {
     "name": "stdout",
     "output_type": "stream",
     "text": [
      "Classes: ['drowsy', 'focused', 'holding phone', 'using-phone', 'yawning']\n"
     ]
    }
   ],
   "source": [
    "# Paths to dataset\n",
    "data_dir = r\"J:\\DMS_Thesis_CNN_4\\DMS.v5i.tensorflow_cropped - Copy\"\n",
    "train_dir = os.path.join(data_dir, 'train')\n",
    "valid_dir = os.path.join(data_dir, 'valid')\n",
    "test_dir  = os.path.join(data_dir, 'test')\n",
    "\n",
    "# Hyperparameters\n",
    "batch_size = 16\n",
    "num_epochs = 20\n",
    "learning_rate = 1e-4\n",
    "\n",
    "# Transforms\n",
    "transform = transforms.Compose([\n",
    "    transforms.Resize((224, 224)),\n",
    "    transforms.ToTensor(),\n",
    "    transforms.Normalize(\n",
    "        mean=[0.485, 0.456, 0.406],\n",
    "        std=[0.229, 0.224, 0.225]\n",
    "    )\n",
    "])\n",
    "\n",
    "# Datasets\n",
    "train_dataset = datasets.ImageFolder(train_dir, transform=transform)\n",
    "valid_dataset = datasets.ImageFolder(valid_dir, transform=transform)\n",
    "test_dataset  = datasets.ImageFolder(test_dir,  transform=transform)\n",
    "\n",
    "# DataLoaders\n",
    "train_loader = DataLoader(train_dataset, batch_size=batch_size, shuffle=True,  num_workers=2)\n",
    "valid_loader = DataLoader(valid_dataset, batch_size=batch_size, shuffle=False, num_workers=2)\n",
    "test_loader  = DataLoader(test_dataset,  batch_size=batch_size, shuffle=False, num_workers=2)\n",
    "\n",
    "# Class info\n",
    "class_names = train_dataset.classes\n",
    "num_classes = len(class_names)\n",
    "print(\"Classes:\", class_names)\n"
   ]
  },
  {
   "cell_type": "markdown",
   "id": "45b92e32",
   "metadata": {},
   "source": [
    "Define Training & Evaluation Functions"
   ]
  },
  {
   "cell_type": "code",
   "execution_count": 3,
   "id": "8a109324",
   "metadata": {},
   "outputs": [],
   "source": [
    "def train_one_epoch(model, dataloader, criterion, optimizer, device):\n",
    "    model.train()\n",
    "    running_loss, correct, total = 0.0, 0, 0\n",
    "\n",
    "    for images, labels in dataloader:\n",
    "        images, labels = images.to(device), labels.to(device)\n",
    "\n",
    "        optimizer.zero_grad()\n",
    "        outputs = model(images)\n",
    "        loss = criterion(outputs, labels)\n",
    "        loss.backward()\n",
    "        optimizer.step()\n",
    "\n",
    "        running_loss += loss.item() * images.size(0)\n",
    "        _, predicted = torch.max(outputs, 1)\n",
    "        total += labels.size(0)\n",
    "        correct += (predicted == labels).sum().item()\n",
    "\n",
    "    return running_loss / total, correct / total\n",
    "\n",
    "\n",
    "def evaluate(model, dataloader, criterion, device):\n",
    "    model.eval()\n",
    "    running_loss, correct, total = 0.0, 0, 0\n",
    "\n",
    "    with torch.no_grad():\n",
    "        for images, labels in dataloader:\n",
    "            images, labels = images.to(device), labels.to(device)\n",
    "\n",
    "            outputs = model(images)\n",
    "            loss = criterion(outputs, labels)\n",
    "            running_loss += loss.item() * images.size(0)\n",
    "\n",
    "            _, predicted = torch.max(outputs, 1)\n",
    "            total += labels.size(0)\n",
    "            correct += (predicted == labels).sum().item()\n",
    "\n",
    "    return running_loss / total, correct / total"
   ]
  },
  {
   "cell_type": "markdown",
   "id": "a750d047",
   "metadata": {},
   "source": [
    "Initialize Model"
   ]
  },
  {
   "cell_type": "code",
   "execution_count": 4,
   "id": "1371dfe0",
   "metadata": {},
   "outputs": [],
   "source": [
    "# Set the model name here\n",
    "model_name = 'mobilenetv3_large_100'  # Change this per model\n",
    "\n",
    "# Create model\n",
    "model = timm.create_model(model_name, pretrained=True)\n",
    "model.reset_classifier(num_classes)\n",
    "model = model.to(device)\n",
    "\n",
    "# Define loss and optimizer\n",
    "criterion = nn.CrossEntropyLoss()\n",
    "optimizer = optim.Adam(model.parameters(), lr=learning_rate)\n",
    "\n",
    "# Directory to save models\n",
    "model_save_dir = \"trained_models\"\n",
    "os.makedirs(model_save_dir, exist_ok=True)\n",
    "\n",
    "# Define dynamic model path based on model name\n",
    "best_val_acc = 0.0\n",
    "best_model_path = os.path.join(model_save_dir, f\"DMS_{model_name}.pth\")\n",
    "\n",
    "# Initialize tracking lists\n",
    "train_losses, train_accuracies = [], []\n",
    "val_losses, val_accuracies = [], []\n",
    "\n"
   ]
  },
  {
   "cell_type": "markdown",
   "id": "34757415",
   "metadata": {},
   "source": [
    "Train the Model"
   ]
  },
  {
   "cell_type": "code",
   "execution_count": 5,
   "id": "cb8031c2",
   "metadata": {},
   "outputs": [
    {
     "name": "stdout",
     "output_type": "stream",
     "text": [
      "Epoch [1/20]\n",
      "  Train Loss: 0.5187, Train Acc: 0.8020\n",
      "  Valid Loss: 0.5803, Valid Acc: 0.8217\n",
      "  Best model saved to trained_models\\DMS_mobilenetv3_large_100.pth!\n",
      "Epoch [2/20]\n",
      "  Train Loss: 0.2142, Train Acc: 0.9169\n",
      "  Valid Loss: 0.5548, Valid Acc: 0.8468\n",
      "  Best model saved to trained_models\\DMS_mobilenetv3_large_100.pth!\n",
      "Epoch [3/20]\n",
      "  Train Loss: 0.1296, Train Acc: 0.9494\n",
      "  Valid Loss: 0.6465, Valid Acc: 0.8552\n",
      "  Best model saved to trained_models\\DMS_mobilenetv3_large_100.pth!\n",
      "Epoch [4/20]\n",
      "  Train Loss: 0.0800, Train Acc: 0.9718\n",
      "  Valid Loss: 0.7596, Valid Acc: 0.8273\n",
      "Epoch [5/20]\n",
      "  Train Loss: 0.0572, Train Acc: 0.9791\n",
      "  Valid Loss: 0.7973, Valid Acc: 0.8691\n",
      "  Best model saved to trained_models\\DMS_mobilenetv3_large_100.pth!\n",
      "Epoch [6/20]\n",
      "  Train Loss: 0.0391, Train Acc: 0.9870\n",
      "  Valid Loss: 0.8346, Valid Acc: 0.8774\n",
      "  Best model saved to trained_models\\DMS_mobilenetv3_large_100.pth!\n",
      "Epoch [7/20]\n",
      "  Train Loss: 0.0296, Train Acc: 0.9906\n",
      "  Valid Loss: 0.8654, Valid Acc: 0.8496\n",
      "Epoch [8/20]\n",
      "  Train Loss: 0.0335, Train Acc: 0.9888\n",
      "  Valid Loss: 1.0930, Valid Acc: 0.8774\n",
      "Epoch [9/20]\n",
      "  Train Loss: 0.0239, Train Acc: 0.9919\n",
      "  Valid Loss: 1.0304, Valid Acc: 0.8217\n",
      "Epoch [10/20]\n",
      "  Train Loss: 0.0243, Train Acc: 0.9918\n",
      "  Valid Loss: 0.9902, Valid Acc: 0.8886\n",
      "  Best model saved to trained_models\\DMS_mobilenetv3_large_100.pth!\n",
      "Epoch [11/20]\n",
      "  Train Loss: 0.0172, Train Acc: 0.9944\n",
      "  Valid Loss: 1.2146, Valid Acc: 0.8719\n",
      "Epoch [12/20]\n",
      "  Train Loss: 0.0146, Train Acc: 0.9957\n",
      "  Valid Loss: 1.3107, Valid Acc: 0.8774\n",
      "Epoch [13/20]\n",
      "  Train Loss: 0.0197, Train Acc: 0.9942\n",
      "  Valid Loss: 1.1356, Valid Acc: 0.8357\n",
      "Epoch [14/20]\n",
      "  Train Loss: 0.0139, Train Acc: 0.9951\n",
      "  Valid Loss: 1.1930, Valid Acc: 0.8719\n",
      "Epoch [15/20]\n",
      "  Train Loss: 0.0175, Train Acc: 0.9938\n",
      "  Valid Loss: 1.2827, Valid Acc: 0.8524\n",
      "Epoch [16/20]\n",
      "  Train Loss: 0.0101, Train Acc: 0.9963\n",
      "  Valid Loss: 1.6256, Valid Acc: 0.8691\n",
      "Epoch [17/20]\n",
      "  Train Loss: 0.0151, Train Acc: 0.9946\n",
      "  Valid Loss: 1.2019, Valid Acc: 0.8747\n",
      "Epoch [18/20]\n",
      "  Train Loss: 0.0145, Train Acc: 0.9944\n",
      "  Valid Loss: 1.7511, Valid Acc: 0.8607\n",
      "Epoch [19/20]\n",
      "  Train Loss: 0.0050, Train Acc: 0.9983\n",
      "  Valid Loss: 1.5532, Valid Acc: 0.8691\n",
      "Epoch [20/20]\n",
      "  Train Loss: 0.0187, Train Acc: 0.9942\n",
      "  Valid Loss: 2.1541, Valid Acc: 0.8579\n"
     ]
    }
   ],
   "source": [
    "for epoch in range(num_epochs):\n",
    "    train_loss, train_acc = train_one_epoch(model, train_loader, criterion, optimizer, device)\n",
    "    val_loss, val_acc = evaluate(model, valid_loader, criterion, device)\n",
    "\n",
    "    print(f\"Epoch [{epoch+1}/{num_epochs}]\")\n",
    "    print(f\"  Train Loss: {train_loss:.4f}, Train Acc: {train_acc:.4f}\")\n",
    "    print(f\"  Valid Loss: {val_loss:.4f}, Valid Acc: {val_acc:.4f}\")\n",
    "\n",
    "    train_losses.append(train_loss)\n",
    "    train_accuracies.append(train_acc)\n",
    "    val_losses.append(val_loss)\n",
    "    val_accuracies.append(val_acc)\n",
    "\n",
    "    if val_acc > best_val_acc:\n",
    "        best_val_acc = val_acc\n",
    "        torch.save(model.state_dict(), best_model_path)\n",
    "        print(f\"  Best model saved to {best_model_path}!\")\n",
    "\n"
   ]
  },
  {
   "cell_type": "markdown",
   "id": "9846a3fe",
   "metadata": {},
   "source": [
    "Plot Accuracy and Loss Curves"
   ]
  },
  {
   "cell_type": "code",
   "execution_count": 6,
   "id": "7783dde6",
   "metadata": {},
   "outputs": [
    {
     "data": {
      "image/png": "[encoded data removed]",
      "text/plain": [
       "<Figure size 1200x500 with 2 Axes>"
      ]
     },
     "metadata": {},
     "output_type": "display_data"
    }
   ],
   "source": [
    "epochs_range = range(1, num_epochs + 1)\n",
    "plt.figure(figsize=(12, 5))\n",
    "\n",
    "plt.subplot(1, 2, 1)\n",
    "plt.plot(epochs_range, train_losses, label='Train Loss')\n",
    "plt.plot(epochs_range, val_losses, label='Val Loss')\n",
    "plt.title('Loss Curve')\n",
    "plt.xlabel('Epoch')\n",
    "plt.ylabel('Loss')\n",
    "plt.legend()\n",
    "\n",
    "plt.subplot(1, 2, 2)\n",
    "plt.plot(epochs_range, train_accuracies, label='Train Acc')\n",
    "plt.plot(epochs_range, val_accuracies, label='Val Acc')\n",
    "plt.title('Accuracy Curve')\n",
    "plt.xlabel('Epoch')\n",
    "plt.ylabel('Accuracy')\n",
    "plt.legend()\n",
    "\n",
    "plt.tight_layout()\n",
    "plt.show()\n"
   ]
  },
  {
   "cell_type": "markdown",
   "id": "24cc9949",
   "metadata": {},
   "source": [
    "Test Set Evaluation & Report"
   ]
  },
  {
   "cell_type": "code",
   "execution_count": 7,
   "id": "3f9ef474",
   "metadata": {},
   "outputs": [
    {
     "name": "stdout",
     "output_type": "stream",
     "text": [
      "Test Loss: 0.3920, Test Accuracy: 0.9151\n"
     ]
    }
   ],
   "source": [
    "model.load_state_dict(torch.load(best_model_path))\n",
    "test_loss, test_acc = evaluate(model, test_loader, criterion, device)\n",
    "print(f\"Test Loss: {test_loss:.4f}, Test Accuracy: {test_acc:.4f}\")\n"
   ]
  },
  {
   "cell_type": "markdown",
   "id": "a7e2a222",
   "metadata": {},
   "source": [
    "Confusion Matrix and Classification Report"
   ]
  },
  {
   "cell_type": "code",
   "execution_count": 8,
   "id": "9db2fc51",
   "metadata": {},
   "outputs": [
    {
     "name": "stdout",
     "output_type": "stream",
     "text": [
      "Confusion Matrix:\n",
      "[[ 73  16   0   0   0]\n",
      " [  8 172   2   0   0]\n",
      " [  1   3  67   0   0]\n",
      " [  0   0   1   0   0]\n",
      " [  0   0   0   0  22]]\n",
      "\n",
      "Classification Report:\n",
      "               precision    recall  f1-score   support\n",
      "\n",
      "       drowsy       0.89      0.82      0.85        89\n",
      "      focused       0.90      0.95      0.92       182\n",
      "holding phone       0.96      0.94      0.95        71\n",
      "  using-phone       0.00      0.00      0.00         1\n",
      "      yawning       1.00      1.00      1.00        22\n",
      "\n",
      "     accuracy                           0.92       365\n",
      "    macro avg       0.75      0.74      0.75       365\n",
      " weighted avg       0.91      0.92      0.91       365\n",
      "\n"
     ]
    },
    {
     "name": "stderr",
     "output_type": "stream",
     "text": [
      "j:\\DMS_Thesis_CNN_4\\.venv\\Lib\\site-packages\\sklearn\\metrics\\_classification.py:1565: UndefinedMetricWarning: Precision is ill-defined and being set to 0.0 in labels with no predicted samples. Use `zero_division` parameter to control this behavior.\n",
      "  _warn_prf(average, modifier, f\"{metric.capitalize()} is\", len(result))\n",
      "j:\\DMS_Thesis_CNN_4\\.venv\\Lib\\site-packages\\sklearn\\metrics\\_classification.py:1565: UndefinedMetricWarning: Precision is ill-defined and being set to 0.0 in labels with no predicted samples. Use `zero_division` parameter to control this behavior.\n",
      "  _warn_prf(average, modifier, f\"{metric.capitalize()} is\", len(result))\n",
      "j:\\DMS_Thesis_CNN_4\\.venv\\Lib\\site-packages\\sklearn\\metrics\\_classification.py:1565: UndefinedMetricWarning: Precision is ill-defined and being set to 0.0 in labels with no predicted samples. Use `zero_division` parameter to control this behavior.\n",
      "  _warn_prf(average, modifier, f\"{metric.capitalize()} is\", len(result))\n"
     ]
    }
   ],
   "source": [
    "y_true, y_pred = [], []\n",
    "model.eval()\n",
    "\n",
    "with torch.no_grad():\n",
    "    for images, labels in test_loader:\n",
    "        images, labels = images.to(device), labels.to(device)\n",
    "        outputs = model(images)\n",
    "        _, predicted = torch.max(outputs, 1)\n",
    "        y_true.extend(labels.cpu().numpy())\n",
    "        y_pred.extend(predicted.cpu().numpy())\n",
    "\n",
    "print(\"Confusion Matrix:\")\n",
    "print(confusion_matrix(y_true, y_pred))\n",
    "\n",
    "print(\"\\nClassification Report:\")\n",
    "print(classification_report(y_true, y_pred, target_names=class_names))\n"
   ]
  }
 ],
 "metadata": {
  "kernelspec": {
   "display_name": ".venv",
   "language": "python",
   "name": "python3"
  },
  "language_info": {
   "codemirror_mode": {
    "name": "ipython",
    "version": 3
   },
   "file_extension": ".py",
   "mimetype": "text/x-python",
   "name": "python",
   "nbconvert_exporter": "python",
   "pygments_lexer": "ipython3",
   "version": "3.12.4"
  }
 },
 "nbformat": 4,
 "nbformat_minor": 5
}
